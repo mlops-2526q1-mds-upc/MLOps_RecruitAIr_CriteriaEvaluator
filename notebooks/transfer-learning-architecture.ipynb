{
 "cells": [
  {
   "cell_type": "code",
   "execution_count": 20,
   "id": "80fee682",
   "metadata": {},
   "outputs": [],
   "source": [
    "from transformers import AutoModelForCausalLM, AutoTokenizer\n",
    "import torch\n",
    "import torch.nn as nn\n",
    "\n",
    "# https://huggingface.co/Qwen/Qwen3-0.6B\n",
    "model_name = \"Qwen/Qwen3-0.6B\""
   ]
  },
  {
   "cell_type": "code",
   "execution_count": null,
   "id": "44dfa336",
   "metadata": {},
   "outputs": [],
   "source": [
    "# load the tokenizer and the model\n",
    "original_model = AutoModelForCausalLM.from_pretrained(model_name, torch_dtype=\"auto\", device_map=\"auto\")"
   ]
  },
  {
   "cell_type": "code",
   "execution_count": 22,
   "id": "82443250",
   "metadata": {},
   "outputs": [
    {
     "name": "stdout",
     "output_type": "stream",
     "text": [
      "0 model Qwen3Model(\n",
      "  (embed_tokens): Embedding(151936, 1024)\n",
      "  (layers): ModuleList(\n",
      "    (0-27): 28 x Qwen3DecoderLayer(\n",
      "      (self_attn): Qwen3Attention(\n",
      "        (q_proj): Linear(in_features=1024, out_features=2048, bias=False)\n",
      "        (k_proj): Linear(in_features=1024, out_features=1024, bias=False)\n",
      "        (v_proj): Linear(in_features=1024, out_features=1024, bias=False)\n",
      "        (o_proj): Linear(in_features=2048, out_features=1024, bias=False)\n",
      "        (q_norm): Qwen3RMSNorm((128,), eps=1e-06)\n",
      "        (k_norm): Qwen3RMSNorm((128,), eps=1e-06)\n",
      "      )\n",
      "      (mlp): Qwen3MLP(\n",
      "        (gate_proj): Linear(in_features=1024, out_features=3072, bias=False)\n",
      "        (up_proj): Linear(in_features=1024, out_features=3072, bias=False)\n",
      "        (down_proj): Linear(in_features=3072, out_features=1024, bias=False)\n",
      "        (act_fn): SiLUActivation()\n",
      "      )\n",
      "      (input_layernorm): Qwen3RMSNorm((1024,), eps=1e-06)\n",
      "      (post_attention_layernorm): Qwen3RMSNorm((1024,), eps=1e-06)\n",
      "    )\n",
      "  )\n",
      "  (norm): Qwen3RMSNorm((1024,), eps=1e-06)\n",
      "  (rotary_emb): Qwen3RotaryEmbedding()\n",
      ")\n",
      "1 lm_head Linear(in_features=1024, out_features=151936, bias=False)\n"
     ]
    }
   ],
   "source": [
    "device = torch.device(\"cuda\" if torch.cuda.is_available() else \"cpu\")\n",
    "\n",
    "# 2) inspect top-level modules and decide cut index\n",
    "for i, (name, module) in enumerate(original_model.named_children()):\n",
    "    print(i, name, module)"
   ]
  },
  {
   "cell_type": "markdown",
   "id": "f4813b28",
   "metadata": {},
   "source": [
    "As we can see, the Qwen3-0.6B model is extremely fine-tuning friendly. It has pretty much only two top-level modules: the transformer backbone and the language modeling head. This means that we can easily swap out the head for any other task-specific head, such as our case, a \"grading head\"."
   ]
  },
  {
   "cell_type": "code",
   "execution_count": 23,
   "id": "1e71040d",
   "metadata": {},
   "outputs": [
    {
     "name": "stdout",
     "output_type": "stream",
     "text": [
      "Qwen3Model(\n",
      "  (embed_tokens): Embedding(151936, 1024)\n",
      "  (layers): ModuleList(\n",
      "    (0-27): 28 x Qwen3DecoderLayer(\n",
      "      (self_attn): Qwen3Attention(\n",
      "        (q_proj): Linear(in_features=1024, out_features=2048, bias=False)\n",
      "        (k_proj): Linear(in_features=1024, out_features=1024, bias=False)\n",
      "        (v_proj): Linear(in_features=1024, out_features=1024, bias=False)\n",
      "        (o_proj): Linear(in_features=2048, out_features=1024, bias=False)\n",
      "        (q_norm): Qwen3RMSNorm((128,), eps=1e-06)\n",
      "        (k_norm): Qwen3RMSNorm((128,), eps=1e-06)\n",
      "      )\n",
      "      (mlp): Qwen3MLP(\n",
      "        (gate_proj): Linear(in_features=1024, out_features=3072, bias=False)\n",
      "        (up_proj): Linear(in_features=1024, out_features=3072, bias=False)\n",
      "        (down_proj): Linear(in_features=3072, out_features=1024, bias=False)\n",
      "        (act_fn): SiLUActivation()\n",
      "      )\n",
      "      (input_layernorm): Qwen3RMSNorm((1024,), eps=1e-06)\n",
      "      (post_attention_layernorm): Qwen3RMSNorm((1024,), eps=1e-06)\n",
      "    )\n",
      "  )\n",
      "  (norm): Qwen3RMSNorm((1024,), eps=1e-06)\n",
      "  (rotary_emb): Qwen3RotaryEmbedding()\n",
      ")\n"
     ]
    }
   ],
   "source": [
    "backbone = next(original_model.children())\n",
    "print(backbone)"
   ]
  },
  {
   "cell_type": "code",
   "execution_count": 24,
   "id": "b69be416",
   "metadata": {},
   "outputs": [
    {
     "name": "stdout",
     "output_type": "stream",
     "text": [
      "torch.Size([1, 8, 1024])\n"
     ]
    }
   ],
   "source": [
    "# Explore the backbone output shapes\n",
    "backbone.to(device)\n",
    "tokenizer = AutoTokenizer.from_pretrained(model_name)\n",
    "sample_inputs = tokenizer([\"I like tortilla de patata...\"], return_tensors=\"pt\").to(original_model.device)\n",
    "with torch.no_grad():\n",
    "    backbone_output = backbone(**sample_inputs)\n",
    "print(backbone_output.last_hidden_state.shape)  # (1, sequence_length, hidden_size)"
   ]
  },
  {
   "cell_type": "code",
   "execution_count": 48,
   "id": "850647c8",
   "metadata": {},
   "outputs": [
    {
     "name": "stdout",
     "output_type": "stream",
     "text": [
      "1024\n"
     ]
    }
   ],
   "source": [
    "# By the looks of it, this can also be seen in the following configuration:\n",
    "in_dim = backbone.config.hidden_size\n",
    "print(in_dim)  # 1024"
   ]
  },
  {
   "cell_type": "code",
   "execution_count": null,
   "id": "2c10eed9",
   "metadata": {},
   "outputs": [],
   "source": [
    "# Finally, let's combine the backbone with a custom head for our grading task.\n",
    "\n",
    "\n",
    "class GradingHead(nn.Module):\n",
    "    def __init__(self, in_dim, hidden_dim=512, dropout=0.5):\n",
    "        super().__init__()\n",
    "        self.net = nn.Sequential(\n",
    "            nn.Linear(in_dim, hidden_dim),\n",
    "            nn.ReLU(inplace=True),\n",
    "            nn.Dropout(dropout),\n",
    "            nn.Linear(hidden_dim, 1),\n",
    "            nn.Sigmoid(),  # output between 0 and 1\n",
    "        )\n",
    "\n",
    "    def forward(self, x):\n",
    "        return self.net(x)\n",
    "\n",
    "\n",
    "head = GradingHead(1024, hidden_dim=512).to(device)"
   ]
  },
  {
   "cell_type": "code",
   "execution_count": 43,
   "id": "d9954dd5",
   "metadata": {},
   "outputs": [],
   "source": [
    "# Combine the backbone and the head\n",
    "\n",
    "\n",
    "class CombinedModel(nn.Module):\n",
    "    def __init__(self, backbone, head):\n",
    "        super().__init__()\n",
    "        self.backbone = backbone\n",
    "        self.head = head\n",
    "\n",
    "    def forward(self, **inputs):\n",
    "        backbone_outputs = self.backbone(**inputs)\n",
    "        last_hidden_state = backbone_outputs.last_hidden_state  # (batch_size, seq_len, hidden_size)\n",
    "        # Instead of passing the entire last hidden state, we can just use the representation of the last token\n",
    "        last_hidden_state = last_hidden_state[:, -1, :]  # (batch_size, hidden_size)\n",
    "        logits = self.head(last_hidden_state)  # (batch_size, 1)\n",
    "        return logits\n",
    "\n",
    "\n",
    "# Before combining, we'll have to make sure that the backbone is not quantized.\n",
    "unquantized_backbone = backbone.to(torch.float32)\n",
    "model = CombinedModel(unquantized_backbone, head).to(device)"
   ]
  },
  {
   "cell_type": "code",
   "execution_count": 46,
   "id": "051bdeed",
   "metadata": {},
   "outputs": [
    {
     "name": "stdout",
     "output_type": "stream",
     "text": [
      "torch.Size([1, 1])\n",
      "tensor([[0.5196]], device='cuda:0')\n"
     ]
    }
   ],
   "source": [
    "# Explore the new model's output shapes\n",
    "tokenizer = AutoTokenizer.from_pretrained(model_name)\n",
    "sample_inputs = tokenizer([\"I like tortilla de patata...\"], return_tensors=\"pt\").to(device)\n",
    "with torch.no_grad():\n",
    "    model_output = model(**sample_inputs)\n",
    "print(model_output.shape)  # (1, 1)\n",
    "print(model_output)"
   ]
  },
  {
   "cell_type": "markdown",
   "id": "fde0b23c",
   "metadata": {},
   "source": [
    "As expected, the combined model outputs a single scalar value (which, because comes from a sigmoid, we know is between 0 and 1), which is exactly what we want for our grading task."
   ]
  },
  {
   "cell_type": "markdown",
   "id": "4b829319",
   "metadata": {},
   "source": [
    "Finally, let's summarize the steps we took to adapt the pre-trained model into a single function:"
   ]
  },
  {
   "cell_type": "code",
   "execution_count": null,
   "id": "4ea02bae",
   "metadata": {},
   "outputs": [],
   "source": [
    "original_model = AutoModelForCausalLM.from_pretrained(model_name, torch_dtype=\"auto\", device_map=\"auto\")\n",
    "backbone = next(original_model.children())\n",
    "head = GradingHead(1024, hidden_dim=512).to(device)\n",
    "unquantized_backbone = backbone.to(torch.float32)\n",
    "model = CombinedModel(unquantized_backbone, head).to(device)"
   ]
  },
  {
   "cell_type": "markdown",
   "id": "f3c4f33b",
   "metadata": {},
   "source": [
    "We will implement a function with this steps in `recruitair.modelling.custom_qwen` module."
   ]
  }
 ],
 "metadata": {
  "kernelspec": {
   "display_name": "recruitair (3.10.11)",
   "language": "python",
   "name": "python3"
  },
  "language_info": {
   "codemirror_mode": {
    "name": "ipython",
    "version": 3
   },
   "file_extension": ".py",
   "mimetype": "text/x-python",
   "name": "python",
   "nbconvert_exporter": "python",
   "pygments_lexer": "ipython3",
   "version": "3.10.11"
  }
 },
 "nbformat": 4,
 "nbformat_minor": 5
}
