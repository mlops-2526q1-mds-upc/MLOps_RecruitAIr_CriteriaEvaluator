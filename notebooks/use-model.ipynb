{
 "cells": [
  {
   "cell_type": "code",
   "execution_count": 1,
   "id": "5f0222ff",
   "metadata": {},
   "outputs": [
    {
     "name": "stderr",
     "output_type": "stream",
     "text": [
      "c:\\Users\\mirxm\\Storage\\Work\\MDS\\S3\\MLOps\\CriteriaEvaluator\\.venv\\lib\\site-packages\\tqdm\\auto.py:21: TqdmWarning: IProgress not found. Please update jupyter and ipywidgets. See https://ipywidgets.readthedocs.io/en/stable/user_install.html\n",
      "  from .autonotebook import tqdm as notebook_tqdm\n",
      "Downloading artifacts: 100%|██████████| 14/14 [00:00<00:00, 22.13it/s]\n"
     ]
    }
   ],
   "source": [
    "import os\n",
    "import torch\n",
    "import mlflow\n",
    "from tempfile import TemporaryDirectory\n",
    "from recruitair.modeling.tokenize import ResumeAndCriteriaTokenizer\n",
    "\n",
    "mlflow.set_tracking_uri(\"http://nattech.fib.upc.edu:40380/\")\n",
    "\n",
    "device = \"cuda\" if torch.cuda.is_available() else \"cpu\"\n",
    "\n",
    "model = mlflow.pytorch.load_model(model_uri=\"models:/criteria-evaluation/2\", map_location=device)\n",
    "model.eval()\n",
    "\n",
    "with TemporaryDirectory() as tmpdirname:\n",
    "    mlflow.artifacts.download_artifacts(artifact_uri=\"models:/criteria-evaluation/2\", dst_path=tmpdirname)\n",
    "    tokenizer = ResumeAndCriteriaTokenizer.from_pretrained(os.path.join(tmpdirname, \"extra_files\", \"tokenizer\"))"
   ]
  },
  {
   "cell_type": "code",
   "execution_count": 2,
   "id": "c8ac9a29",
   "metadata": {},
   "outputs": [
    {
     "data": {
      "text/plain": [
       "tensor([[1.6708e-05]], device='cuda:0', grad_fn=<SigmoidBackward0>)"
      ]
     },
     "execution_count": 2,
     "metadata": {},
     "output_type": "execute_result"
    }
   ],
   "source": [
    "encoded_input = tokenizer(\n",
    "    \"Experienced software engineer with a background in machine learning and data science.\",\n",
    "    \"Machine Learning\",\n",
    ").to(device)\n",
    "\n",
    "model.to(device)(**encoded_input)"
   ]
  }
 ],
 "metadata": {
  "kernelspec": {
   "display_name": "recruitair (3.10.11)",
   "language": "python",
   "name": "python3"
  },
  "language_info": {
   "codemirror_mode": {
    "name": "ipython",
    "version": 3
   },
   "file_extension": ".py",
   "mimetype": "text/x-python",
   "name": "python",
   "nbconvert_exporter": "python",
   "pygments_lexer": "ipython3",
   "version": "3.10.11"
  }
 },
 "nbformat": 4,
 "nbformat_minor": 5
}
